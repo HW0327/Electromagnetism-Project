{
  "cells": [
    {
      "cell_type": "markdown",
      "metadata": {
        "id": "view-in-github",
        "colab_type": "text"
      },
      "source": [
        "<a href=\"https://colab.research.google.com/github/HW0327/Electromagnetism-Project/blob/main/parallel_plane.ipynb\" target=\"_parent\"><img src=\"https://colab.research.google.com/assets/colab-badge.svg\" alt=\"Open In Colab\"/></a>"
      ]
    },
    {
      "cell_type": "code",
      "execution_count": 1,
      "id": "8c70ce5d",
      "metadata": {
        "id": "8c70ce5d"
      },
      "outputs": [],
      "source": [
        "import csv\n",
        "import math\n",
        "import numpy as np\n",
        "import pandas as pd\n",
        "import random\n",
        "from sklearn import preprocessing\n",
        "from sklearn.model_selection import train_test_split\n",
        "import matplotlib.pyplot as plt\n",
        "from sklearn.tree import DecisionTreeRegressor\n",
        "from sklearn.neighbors import KNeighborsRegressor\n",
        "from sklearn.linear_model import LinearRegression\n",
        "from sklearn.ensemble import RandomForestRegressor\n",
        "from sklearn.neural_network import MLPRegressor\n",
        "from sklearn.metrics import mean_squared_error\n",
        "import warnings\n",
        "#suppress warnings\n",
        "warnings.filterwarnings('ignore')\n",
        "# Set up the constants\n",
        "mu_0 = 4 * math.pi * 1e-7  # Permeability of free space\n",
        "\n",
        "# Set up the parameters for the data\n",
        "I_values = np.arange(1,11)  # Values of I to use\n"
      ]
    },
    {
      "cell_type": "code",
      "source": [
        "x=np.linspace(-50,50,11)  # x-position of the testing point\n",
        "y=np.linspace(-50,50,11)  # y-position of the testing point\n",
        "H=np.linspace(10,100,10)  # Height of the wire\n",
        "\n",
        "print(x)\n"
      ],
      "metadata": {
        "colab": {
          "base_uri": "https://localhost:8080/"
        },
        "id": "YbLugWUUdmhR",
        "outputId": "23234e7d-2815-4142-f7e9-9d1737d3cc3e"
      },
      "id": "YbLugWUUdmhR",
      "execution_count": 2,
      "outputs": [
        {
          "output_type": "stream",
          "name": "stdout",
          "text": [
            "[-50. -40. -30. -20. -10.   0.  10.  20.  30.  40.  50.]\n"
          ]
        }
      ]
    },
    {
      "cell_type": "code",
      "execution_count": 3,
      "id": "2b45dfdb",
      "metadata": {
        "id": "2b45dfdb",
        "colab": {
          "base_uri": "https://localhost:8080/",
          "height": 423
        },
        "outputId": "d9ef7f84-ec42-4ccc-a999-70dee67380e4"
      },
      "outputs": [
        {
          "output_type": "execute_result",
          "data": {
            "text/plain": [
              "              I         H         X         Y         B\n",
              "0     -1.566634 -1.566634 -1.581073 -1.581073 -0.875152\n",
              "1     -1.566634 -1.566634 -1.581073 -1.264859 -0.829600\n",
              "2     -1.566634 -1.566634 -1.581073 -0.948644 -0.757284\n",
              "3     -1.566634 -1.566634 -1.581073 -0.632429 -0.628746\n",
              "4     -1.566634 -1.566634 -1.581073 -0.316215 -0.373708\n",
              "...         ...       ...       ...       ...       ...\n",
              "12095  1.566634  1.566634  1.581073  0.316215 -0.091157\n",
              "12096  1.566634  1.566634  1.581073  0.632429 -0.105344\n",
              "12097  1.566634  1.566634  1.581073  0.948644 -0.127673\n",
              "12098  1.566634  1.566634  1.581073  1.264859 -0.156474\n",
              "12099  1.566634  1.566634  1.581073  1.581073 -0.189887\n",
              "\n",
              "[12100 rows x 5 columns]"
            ],
            "text/html": [
              "\n",
              "  <div id=\"df-2a2813f6-a60a-45ef-b24d-dadc1fcccf83\">\n",
              "    <div class=\"colab-df-container\">\n",
              "      <div>\n",
              "<style scoped>\n",
              "    .dataframe tbody tr th:only-of-type {\n",
              "        vertical-align: middle;\n",
              "    }\n",
              "\n",
              "    .dataframe tbody tr th {\n",
              "        vertical-align: top;\n",
              "    }\n",
              "\n",
              "    .dataframe thead th {\n",
              "        text-align: right;\n",
              "    }\n",
              "</style>\n",
              "<table border=\"1\" class=\"dataframe\">\n",
              "  <thead>\n",
              "    <tr style=\"text-align: right;\">\n",
              "      <th></th>\n",
              "      <th>I</th>\n",
              "      <th>H</th>\n",
              "      <th>X</th>\n",
              "      <th>Y</th>\n",
              "      <th>B</th>\n",
              "    </tr>\n",
              "  </thead>\n",
              "  <tbody>\n",
              "    <tr>\n",
              "      <th>0</th>\n",
              "      <td>-1.566634</td>\n",
              "      <td>-1.566634</td>\n",
              "      <td>-1.581073</td>\n",
              "      <td>-1.581073</td>\n",
              "      <td>-0.875152</td>\n",
              "    </tr>\n",
              "    <tr>\n",
              "      <th>1</th>\n",
              "      <td>-1.566634</td>\n",
              "      <td>-1.566634</td>\n",
              "      <td>-1.581073</td>\n",
              "      <td>-1.264859</td>\n",
              "      <td>-0.829600</td>\n",
              "    </tr>\n",
              "    <tr>\n",
              "      <th>2</th>\n",
              "      <td>-1.566634</td>\n",
              "      <td>-1.566634</td>\n",
              "      <td>-1.581073</td>\n",
              "      <td>-0.948644</td>\n",
              "      <td>-0.757284</td>\n",
              "    </tr>\n",
              "    <tr>\n",
              "      <th>3</th>\n",
              "      <td>-1.566634</td>\n",
              "      <td>-1.566634</td>\n",
              "      <td>-1.581073</td>\n",
              "      <td>-0.632429</td>\n",
              "      <td>-0.628746</td>\n",
              "    </tr>\n",
              "    <tr>\n",
              "      <th>4</th>\n",
              "      <td>-1.566634</td>\n",
              "      <td>-1.566634</td>\n",
              "      <td>-1.581073</td>\n",
              "      <td>-0.316215</td>\n",
              "      <td>-0.373708</td>\n",
              "    </tr>\n",
              "    <tr>\n",
              "      <th>...</th>\n",
              "      <td>...</td>\n",
              "      <td>...</td>\n",
              "      <td>...</td>\n",
              "      <td>...</td>\n",
              "      <td>...</td>\n",
              "    </tr>\n",
              "    <tr>\n",
              "      <th>12095</th>\n",
              "      <td>1.566634</td>\n",
              "      <td>1.566634</td>\n",
              "      <td>1.581073</td>\n",
              "      <td>0.316215</td>\n",
              "      <td>-0.091157</td>\n",
              "    </tr>\n",
              "    <tr>\n",
              "      <th>12096</th>\n",
              "      <td>1.566634</td>\n",
              "      <td>1.566634</td>\n",
              "      <td>1.581073</td>\n",
              "      <td>0.632429</td>\n",
              "      <td>-0.105344</td>\n",
              "    </tr>\n",
              "    <tr>\n",
              "      <th>12097</th>\n",
              "      <td>1.566634</td>\n",
              "      <td>1.566634</td>\n",
              "      <td>1.581073</td>\n",
              "      <td>0.948644</td>\n",
              "      <td>-0.127673</td>\n",
              "    </tr>\n",
              "    <tr>\n",
              "      <th>12098</th>\n",
              "      <td>1.566634</td>\n",
              "      <td>1.566634</td>\n",
              "      <td>1.581073</td>\n",
              "      <td>1.264859</td>\n",
              "      <td>-0.156474</td>\n",
              "    </tr>\n",
              "    <tr>\n",
              "      <th>12099</th>\n",
              "      <td>1.566634</td>\n",
              "      <td>1.566634</td>\n",
              "      <td>1.581073</td>\n",
              "      <td>1.581073</td>\n",
              "      <td>-0.189887</td>\n",
              "    </tr>\n",
              "  </tbody>\n",
              "</table>\n",
              "<p>12100 rows × 5 columns</p>\n",
              "</div>\n",
              "      <button class=\"colab-df-convert\" onclick=\"convertToInteractive('df-2a2813f6-a60a-45ef-b24d-dadc1fcccf83')\"\n",
              "              title=\"Convert this dataframe to an interactive table.\"\n",
              "              style=\"display:none;\">\n",
              "        \n",
              "  <svg xmlns=\"http://www.w3.org/2000/svg\" height=\"24px\"viewBox=\"0 0 24 24\"\n",
              "       width=\"24px\">\n",
              "    <path d=\"M0 0h24v24H0V0z\" fill=\"none\"/>\n",
              "    <path d=\"M18.56 5.44l.94 2.06.94-2.06 2.06-.94-2.06-.94-.94-2.06-.94 2.06-2.06.94zm-11 1L8.5 8.5l.94-2.06 2.06-.94-2.06-.94L8.5 2.5l-.94 2.06-2.06.94zm10 10l.94 2.06.94-2.06 2.06-.94-2.06-.94-.94-2.06-.94 2.06-2.06.94z\"/><path d=\"M17.41 7.96l-1.37-1.37c-.4-.4-.92-.59-1.43-.59-.52 0-1.04.2-1.43.59L10.3 9.45l-7.72 7.72c-.78.78-.78 2.05 0 2.83L4 21.41c.39.39.9.59 1.41.59.51 0 1.02-.2 1.41-.59l7.78-7.78 2.81-2.81c.8-.78.8-2.07 0-2.86zM5.41 20L4 18.59l7.72-7.72 1.47 1.35L5.41 20z\"/>\n",
              "  </svg>\n",
              "      </button>\n",
              "      \n",
              "  <style>\n",
              "    .colab-df-container {\n",
              "      display:flex;\n",
              "      flex-wrap:wrap;\n",
              "      gap: 12px;\n",
              "    }\n",
              "\n",
              "    .colab-df-convert {\n",
              "      background-color: #E8F0FE;\n",
              "      border: none;\n",
              "      border-radius: 50%;\n",
              "      cursor: pointer;\n",
              "      display: none;\n",
              "      fill: #1967D2;\n",
              "      height: 32px;\n",
              "      padding: 0 0 0 0;\n",
              "      width: 32px;\n",
              "    }\n",
              "\n",
              "    .colab-df-convert:hover {\n",
              "      background-color: #E2EBFA;\n",
              "      box-shadow: 0px 1px 2px rgba(60, 64, 67, 0.3), 0px 1px 3px 1px rgba(60, 64, 67, 0.15);\n",
              "      fill: #174EA6;\n",
              "    }\n",
              "\n",
              "    [theme=dark] .colab-df-convert {\n",
              "      background-color: #3B4455;\n",
              "      fill: #D2E3FC;\n",
              "    }\n",
              "\n",
              "    [theme=dark] .colab-df-convert:hover {\n",
              "      background-color: #434B5C;\n",
              "      box-shadow: 0px 1px 3px 1px rgba(0, 0, 0, 0.15);\n",
              "      filter: drop-shadow(0px 1px 2px rgba(0, 0, 0, 0.3));\n",
              "      fill: #FFFFFF;\n",
              "    }\n",
              "  </style>\n",
              "\n",
              "      <script>\n",
              "        const buttonEl =\n",
              "          document.querySelector('#df-2a2813f6-a60a-45ef-b24d-dadc1fcccf83 button.colab-df-convert');\n",
              "        buttonEl.style.display =\n",
              "          google.colab.kernel.accessAllowed ? 'block' : 'none';\n",
              "\n",
              "        async function convertToInteractive(key) {\n",
              "          const element = document.querySelector('#df-2a2813f6-a60a-45ef-b24d-dadc1fcccf83');\n",
              "          const dataTable =\n",
              "            await google.colab.kernel.invokeFunction('convertToInteractive',\n",
              "                                                     [key], {});\n",
              "          if (!dataTable) return;\n",
              "\n",
              "          const docLinkHtml = 'Like what you see? Visit the ' +\n",
              "            '<a target=\"_blank\" href=https://colab.research.google.com/notebooks/data_table.ipynb>data table notebook</a>'\n",
              "            + ' to learn more about interactive tables.';\n",
              "          element.innerHTML = '';\n",
              "          dataTable['output_type'] = 'display_data';\n",
              "          await google.colab.output.renderOutput(dataTable, element);\n",
              "          const docLink = document.createElement('div');\n",
              "          docLink.innerHTML = docLinkHtml;\n",
              "          element.appendChild(docLink);\n",
              "        }\n",
              "      </script>\n",
              "    </div>\n",
              "  </div>\n",
              "  "
            ]
          },
          "metadata": {},
          "execution_count": 3
        }
      ],
      "source": [
        "\n",
        "# Create the header row for the CSV file\n",
        "header_row = ['I', 'H', 'X', 'Y', 'B']\n",
        "\n",
        "# Create a list to store the rows of data\n",
        "data_rows = []\n",
        "\n",
        "# Loop over the I and R values and calculate the corresponding B values\n",
        "for I in I_values:\n",
        "  for n in H:\n",
        "    for m in x:\n",
        "      for j in y:\n",
        "        R=np.sqrt(n**2+j**2)\n",
        "        B = mu_0 * I / (2 * math.pi * R)\n",
        "        data_rows.append([I, n, m, j, B])\n",
        "\n",
        "# Write the data to a CSV file\n",
        "with open('biot_savart_data.csv', 'w', newline='') as csvfile:\n",
        "    writer = csv.writer(csvfile)\n",
        "    writer.writerow(header_row)\n",
        "    writer.writerows(data_rows)\n",
        "\n",
        "data=pd.read_csv('biot_savart_data.csv', sep=',')\n",
        "#data=preprocessing.normalize(data)\n",
        "data=(data-data.mean())/data.std()\n",
        "data"
      ]
    },
    {
      "cell_type": "code",
      "execution_count": 4,
      "id": "43baa74f",
      "metadata": {
        "id": "43baa74f",
        "colab": {
          "base_uri": "https://localhost:8080/"
        },
        "outputId": "58bb374a-2fa7-4253-817c-d95016294358"
      },
      "outputs": [
        {
          "output_type": "stream",
          "name": "stdout",
          "text": [
            "12140\n"
          ]
        }
      ],
      "source": [
        "I_noise = np.random.normal(np.mean(np.array(data['I'])),1,40)\n",
        "X_noise = np.random.normal(np.mean(np.array(data['X'])),1,40)\n",
        "H_noise = np.random.normal(np.mean(np.array(data['H'])),1,40)\n",
        "Y_noise = np.random.normal(np.mean(np.array(data['Y'])),1,40)\n",
        "B_noise = np.random.normal(np.mean(np.array(data['B'])),1,40)\n",
        "noise=pd.DataFrame({'I': I_noise, 'H': H_noise, 'X': X_noise, 'Y': Y_noise, 'B': B_noise})\n",
        "data=data.append(noise, ignore_index=True)\n",
        "data=np.array(data)\n",
        "print(len(data))"
      ]
    },
    {
      "cell_type": "code",
      "execution_count": 5,
      "id": "037c5192",
      "metadata": {
        "id": "037c5192"
      },
      "outputs": [],
      "source": [
        "\n",
        "# Split the data into training and testing sets\n",
        "num_training_samples = 10800\n",
        "#training_data = data[:num_training_samples]\n",
        "#testing_data = data[num_training_samples:]\n",
        "X=[[row[0], row[1], row[2], row[3]] for row in data]\n",
        "y=[row[4] for row in data]\n",
        "X_train, X_test, y_train, y_test = train_test_split(X, y, test_size=0.1, random_state=42, shuffle=True)\n",
        "# Create the regression models\n",
        "linear_regression = LinearRegression()\n",
        "decision_tree_regression = DecisionTreeRegressor(max_depth=5)\n",
        "neural_network_regression = MLPRegressor(hidden_layer_sizes=(10, 10))\n",
        "decision_tree_regression2 = DecisionTreeRegressor(max_depth=10)\n",
        "knn = KNeighborsRegressor()\n",
        "RFC=RandomForestRegressor()\n",
        "# Fit the regression models iteratively\n",
        "train_sizes = range(100, num_training_samples, 100)\n",
        "losses = []\n",
        "for model in [neural_network_regression, decision_tree_regression, decision_tree_regression2, knn, RFC]:\n",
        "    model_losses = []\n",
        "    for train_size in train_sizes:\n",
        "        X_trainn = np.array(X_train[:train_size])\n",
        "        y_trainn = np.array(y_train[:train_size])\n",
        "        model.fit(X_trainn, y_trainn)\n",
        "        y_pred = model.predict(X_test)\n",
        "        loss = mean_squared_error(y_test, y_pred)\n",
        "        model_losses.append(loss)\n",
        "    losses.append(model_losses)\n"
      ]
    },
    {
      "cell_type": "code",
      "execution_count": 6,
      "id": "68fbdc0f",
      "metadata": {
        "colab": {
          "base_uri": "https://localhost:8080/",
          "height": 295
        },
        "id": "68fbdc0f",
        "outputId": "a6bdbaf1-42e2-420f-cf84-9169a2ded2b0"
      },
      "outputs": [
        {
          "output_type": "display_data",
          "data": {
            "text/plain": [
              "<Figure size 432x288 with 1 Axes>"
            ],
            "image/png": "[encoded data removed]"
          },
          "metadata": {
            "needs_background": "light"
          }
        }
      ],
      "source": [
        "# Plot model losses\n",
        "modelss=[\"neural_network_regression\", \"decision_tree_regression_max_depth_5\", \"decision_tree_regression_max_depth_10\", \"KNeighborsRegressor\", \"RandomForestRegressor\"]\n",
        "for i, expert in enumerate(modelss):\n",
        "    plt.plot(losses[i], label=f'{expert}')\n",
        "plt.xlabel(\"Iterations\")\n",
        "plt.ylabel(\"Loss\")\n",
        "plt.title(\"Loss Value of magnetic field intensity\")\n",
        "plt.legend(loc=\"upper right\")\n",
        "\n",
        "plt.show()\n"
      ]
    },
    {
      "cell_type": "code",
      "execution_count": 7,
      "id": "hc0-kkWGCZUT",
      "metadata": {
        "colab": {
          "base_uri": "https://localhost:8080/"
        },
        "id": "hc0-kkWGCZUT",
        "outputId": "cecc142e-84cc-4bf8-b329-978533911e74"
      },
      "outputs": [
        {
          "output_type": "stream",
          "name": "stdout",
          "text": [
            "MLPRegressor(hidden_layer_sizes=(10, 10)) mean square error: 0.014853516306419373\n",
            "MLPRegressor(hidden_layer_sizes=(10, 10)) accuracy: 1.0\n",
            "DecisionTreeRegressor(max_depth=5) mean square error: 0.1740873994552\n",
            "DecisionTreeRegressor(max_depth=5) accuracy: 1.0\n",
            "DecisionTreeRegressor(max_depth=10) mean square error: 0.025264207979830405\n",
            "DecisionTreeRegressor(max_depth=10) accuracy: 0.8253706754530478\n",
            "KNeighborsRegressor() mean square error: 0.03127322349268526\n",
            "KNeighborsRegressor() accuracy: 1.0\n",
            "RandomForestRegressor() mean square error: 0.007789727197323708\n",
            "RandomForestRegressor() accuracy: 0.9464579901153213\n"
          ]
        }
      ],
      "source": [
        "# Predict on testing data using trained models, and calculate the test  mean square error of each model\n",
        "\n",
        "for model in [neural_network_regression, decision_tree_regression, decision_tree_regression2, knn, RFC]:\n",
        "  pred=model.predict(X_test)\n",
        "  regression_mse = mean_squared_error(y_test, pred)\n",
        "  print(f\"{model} mean square error:\", regression_mse)\n",
        "  acc=0\n",
        "  for i in range(len(pred)):\n",
        "    if abs(pred[i]==y_test[i])<=0.1:\n",
        "      acc+=1\n",
        "  print(f\"{model} accuracy:\", acc/len(pred))\n"
      ]
    },
    {
      "cell_type": "code",
      "execution_count": 8,
      "id": "80dfe8c0",
      "metadata": {
        "id": "80dfe8c0"
      },
      "outputs": [],
      "source": [
        "I_losses = []\n",
        "X=[[row[1], row[2], row[3], row[4]] for row in data]\n",
        "y=[row[0] for row in data]\n",
        "X_train, X_test, y_train, y_test = train_test_split(X, y, test_size=0.1, random_state=42)\n",
        "for model in [neural_network_regression, decision_tree_regression, decision_tree_regression2, knn, RFC]:\n",
        "    model_losses = []\n",
        "    for train_size in train_sizes:\n",
        "        X_trainn = np.array(X_train[:train_size])\n",
        "        y_trainn = np.array(y_train[:train_size])\n",
        "        model.fit(X_trainn, y_trainn)\n",
        "        y_pred = model.predict(X_test)\n",
        "        loss = mean_squared_error(y_test, y_pred)\n",
        "        model_losses.append(loss)\n",
        "    I_losses.append(model_losses)"
      ]
    },
    {
      "cell_type": "code",
      "execution_count": 9,
      "id": "3gCik9X_-3K9",
      "metadata": {
        "colab": {
          "base_uri": "https://localhost:8080/",
          "height": 295
        },
        "id": "3gCik9X_-3K9",
        "outputId": "1aed7701-ef73-4e5b-c402-a540991bd463"
      },
      "outputs": [
        {
          "output_type": "display_data",
          "data": {
            "text/plain": [
              "<Figure size 432x288 with 1 Axes>"
            ],
            "image/png": "[encoded data removed]"
          },
          "metadata": {
            "needs_background": "light"
          }
        }
      ],
      "source": [
        "# Plot model losses\n",
        "modelss=[\"neural_network_regression\", \"decision_tree_regression_max_depth_5\", \"decision_tree_regression_max_depth_10\", \"KNeighborsRegressor\", \"RandomForestRegressor\"]\n",
        "for i, expert in enumerate(modelss):\n",
        "    plt.plot(I_losses[i], label=f'{expert}')\n",
        "plt.xlabel(\"Iterations\")\n",
        "plt.ylabel(\"Loss\")\n",
        "plt.title(\"Loss Value of current intensity\")\n",
        "plt.legend(loc=\"upper right\")\n",
        "\n",
        "plt.show()"
      ]
    },
    {
      "cell_type": "code",
      "execution_count": 10,
      "id": "l1W46yQaCw9k",
      "metadata": {
        "colab": {
          "base_uri": "https://localhost:8080/"
        },
        "id": "l1W46yQaCw9k",
        "outputId": "991e49b3-f3d8-4f13-a2a0-d7c3d95441ac"
      },
      "outputs": [
        {
          "output_type": "stream",
          "name": "stdout",
          "text": [
            "MLPRegressor(hidden_layer_sizes=(10, 10)) mean square error: 0.03884874969658574\n",
            "MLPRegressor(hidden_layer_sizes=(10, 10)) accuracy: 0.8443163097199341\n",
            "DecisionTreeRegressor(max_depth=5) mean square error: 0.12703942840561636\n",
            "DecisionTreeRegressor(max_depth=5) accuracy: 0.22652388797364087\n",
            "DecisionTreeRegressor(max_depth=10) mean square error: 0.02053883498333439\n",
            "DecisionTreeRegressor(max_depth=10) accuracy: 0.8261943986820428\n",
            "KNeighborsRegressor() mean square error: 0.04446758016231921\n",
            "KNeighborsRegressor() accuracy: 0.5181219110378913\n",
            "RandomForestRegressor() mean square error: 0.0069458766086428194\n",
            "RandomForestRegressor() accuracy: 0.9967051070840197\n"
          ]
        }
      ],
      "source": [
        "# Predict on testing data using trained models, and calculate the test mean square error of each model\n",
        "\n",
        "for model in [neural_network_regression, decision_tree_regression, decision_tree_regression2, knn, RFC]:\n",
        "  pred=model.predict(X_test)\n",
        "  regression_mse = mean_squared_error(y_test, pred)\n",
        "  print(f\"{model} mean square error:\", regression_mse)\n",
        "  acc=0\n",
        "  for i in range(len(pred)):\n",
        "    if abs(pred[i]-y_test[i])<=0.1:\n",
        "      acc+=1\n",
        "  print(f\"{model} accuracy:\", acc/len(pred))\n",
        "\n"
      ]
    },
    {
      "cell_type": "code",
      "execution_count": 10,
      "id": "c0c074cd",
      "metadata": {
        "id": "c0c074cd"
      },
      "outputs": [],
      "source": []
    }
  ],
  "metadata": {
    "colab": {
      "provenance": [],
      "include_colab_link": true
    },
    "kernelspec": {
      "display_name": "Python 3 (ipykernel)",
      "language": "python",
      "name": "python3"
    },
    "language_info": {
      "codemirror_mode": {
        "name": "ipython",
        "version": 3
      },
      "file_extension": ".py",
      "mimetype": "text/x-python",
      "name": "python",
      "nbconvert_exporter": "python",
      "pygments_lexer": "ipython3",
      "version": "3.10.0"
    }
  },
  "nbformat": 4,
  "nbformat_minor": 5
}